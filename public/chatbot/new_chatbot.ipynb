{
  "cells": [
    {
      "cell_type": "code",
      "execution_count": 1,
      "id": "3d742f1e",
      "metadata": {
        "colab": {
          "base_uri": "https://localhost:8080/"
        },
        "id": "3d742f1e",
        "outputId": "40640c0c-ba88-43dd-ff49-2ff58b889710"
      },
      "outputs": [
        {
          "output_type": "stream",
          "name": "stdout",
          "text": [
            "\u001b[2K     \u001b[90m━━━━━━━━━━━━━━━━━━━━━━━━━━━━━━━━━━━━━━━━\u001b[0m \u001b[32m232.6/232.6 kB\u001b[0m \u001b[31m5.0 MB/s\u001b[0m eta \u001b[36m0:00:00\u001b[0m\n",
            "\u001b[?25hCollecting python-docx\n",
            "  Downloading python_docx-1.1.2-py3-none-any.whl (244 kB)\n",
            "\u001b[2K     \u001b[90m━━━━━━━━━━━━━━━━━━━━━━━━━━━━━━━━━━━━━━━━\u001b[0m \u001b[32m244.3/244.3 kB\u001b[0m \u001b[31m6.4 MB/s\u001b[0m eta \u001b[36m0:00:00\u001b[0m\n",
            "\u001b[?25hRequirement already satisfied: lxml>=3.1.0 in /usr/local/lib/python3.10/dist-packages (from python-docx) (4.9.4)\n",
            "Requirement already satisfied: typing-extensions>=4.9.0 in /usr/local/lib/python3.10/dist-packages (from python-docx) (4.12.2)\n",
            "Installing collected packages: python-docx\n",
            "Successfully installed python-docx-1.1.2\n"
          ]
        }
      ],
      "source": [
        "!pip install -q -U PyPDF2\n",
        "!pip install python-docx"
      ]
    },
    {
      "cell_type": "code",
      "execution_count": 2,
      "id": "311021b1",
      "metadata": {
        "id": "311021b1"
      },
      "outputs": [],
      "source": [
        "FILE_PATH =r'/content/Ai_pyDev.txt'\n",
        "Resume_pdf=\"/content/Data Scientist.pdf\""
      ]
    },
    {
      "cell_type": "code",
      "execution_count": 3,
      "id": "40bd1098",
      "metadata": {
        "colab": {
          "base_uri": "https://localhost:8080/"
        },
        "id": "40bd1098",
        "outputId": "489a5659-e7e0-48ff-b9f7-19324b4f57e2"
      },
      "outputs": [
        {
          "output_type": "stream",
          "name": "stderr",
          "text": [
            "[nltk_data] Downloading package omw-1.4 to /root/nltk_data...\n",
            "[nltk_data] Downloading package stopwords to /root/nltk_data...\n",
            "[nltk_data]   Unzipping corpora/stopwords.zip.\n",
            "[nltk_data] Downloading package punkt to /root/nltk_data...\n",
            "[nltk_data]   Unzipping tokenizers/punkt.zip.\n",
            "[nltk_data] Downloading package wordnet to /root/nltk_data...\n"
          ]
        }
      ],
      "source": [
        "import numpy as np\n",
        "import nltk\n",
        "nltk.download('omw-1.4')\n",
        "nltk.download('stopwords')\n",
        "nltk.download('punkt')\n",
        "nltk.download('wordnet')\n",
        "import warnings\n",
        "warnings.filterwarnings('ignore')\n",
        "import random\n",
        "import string\n",
        "import re\n",
        "import pandas as pd\n",
        "from sklearn.feature_extraction.text import TfidfVectorizer\n",
        "from sklearn.metrics.pairwise import cosine_similarity\n",
        "from nltk.stem.snowball import SnowballStemmer\n",
        "from sklearn.model_selection import train_test_split\n",
        "from sklearn.neighbors import KNeighborsClassifier\n",
        "from sklearn.multiclass import OneVsRestClassifier\n",
        "import pickle\n",
        "from datetime import date\n",
        "from IPython.display import Image,display\n",
        "from IPython.display import Markdown\n",
        "import textwrap\n",
        "from docx import Document\n",
        "from io import BytesIO\n",
        "from PyPDF2 import PdfReader"
      ]
    },
    {
      "cell_type": "code",
      "execution_count": 4,
      "id": "3c4b2a4d",
      "metadata": {
        "id": "3c4b2a4d"
      },
      "outputs": [],
      "source": [
        "def open_the_file(path):\n",
        "    with open (path ,'r',encoding ='utf-8') as f:\n",
        "        text =f.read()\n",
        "    return text\n",
        "\n",
        " #=======================================================\n",
        "\n",
        "\n",
        "def get_pdf_text(pdf):\n",
        "    pdf_reader = PdfReader(BytesIO(pdf))\n",
        "    text = \"\"\n",
        "    for page_num in range(len(pdf_reader.pages)):\n",
        "        page = pdf_reader.pages[page_num]\n",
        "        text += page.extract_text()\n",
        "    return text\n",
        "\n",
        "#========================================================\n",
        "\n",
        "\n",
        "def get_docx_text(docx_bytes):\n",
        "    document = Document(BytesIO(docx_bytes))\n",
        "    doc_text = \"\"\n",
        "    for para in document.paragraphs:\n",
        "        doc_text += para.text + \"\\n\"\n",
        "    return doc_text\n",
        "\n",
        "\n",
        "#===================================================\n",
        "\n",
        "def upload_cv(Resume):\n",
        "    raw_text = \"\"\n",
        "    if Resume is not None:\n",
        "        if Resume.name.endswith(\".pdf\"):\n",
        "            raw_text = get_pdf_text(Resume.read())\n",
        "        elif Resume.name.endswith(\".docx\"):\n",
        "            raw_text = get_docx_text(Resume.read())\n",
        "        return raw_text\n",
        "\n",
        "#==================================================\n",
        "def cleaning_text(text):\n",
        "    cleantext=re.sub('http\\S+',' ', text)\n",
        "    cleantext = re.sub('RT|cc', ' ',cleantext)\n",
        "    cleantext=re.sub('#\\S+\\s',' ',cleantext)\n",
        "    cleantext = re.sub('@\\S+', '  ', cleantext)\n",
        "    cleantext = re.sub('[%s]' % re.escape(\"\"\"!\"#$%&'()*+,-./:;<=>?@[\\]^_`{|}~\"\"\"), ' ', cleantext)\n",
        "    cleantext = re.sub(r'[^\\x00-\\x7f]', ' ', cleantext)\n",
        "    cleantext = re.sub('\\s+', ' ', cleantext)\n",
        "\n",
        "    return cleantext\n",
        "\n",
        " #=======================================================\n",
        "\n",
        "def Resume(cv):\n",
        "\n",
        "    def cleaning_text(text):\n",
        "        cleantext=re.sub('http\\S+\\s',' ', text)\n",
        "        cleantext = re.sub('RT|cc', ' ',cleantext)\n",
        "        cleantext=re.sub('#\\S+\\s',' ',cleantext)\n",
        "        cleantext = re.sub('@\\S+', '  ', cleantext)\n",
        "        cleantext = re.sub('[%s]' % re.escape(\"\"\"!\"#$%&'()*+,-./:;<=>?@[\\]^_`{|}~\"\"\"), ' ', cleantext)\n",
        "        cleantext = re.sub(r'[^\\x00-\\x7f]', ' ', cleantext)\n",
        "        cleantext = re.sub('\\s+', ' ', cleantext)\n",
        "\n",
        "        return cleantext\n",
        "\n",
        "    with open('/content/tfidf.pkl', 'rb') as f:\n",
        "        tfidf= pickle.load(f)\n",
        "\n",
        "    with open('/content/clf.pkl', 'rb') as f:\n",
        "        clf= pickle.load(f)\n",
        "\n",
        "    # Map category ID to category name\n",
        "    category_mapping = {\n",
        "        15: \"Java Developer\",\n",
        "        23: \"Testing\",\n",
        "        8: \"DevOps Engineer\",\n",
        "        20: \"Python Developer\",\n",
        "        24: \"Web Designing\",\n",
        "        12: \"HR\",\n",
        "        13: \"Hadoop\",\n",
        "        3: \"Blockchain\",\n",
        "        10: \"ETL Developer\",\n",
        "        18: \"Operations Manager\",\n",
        "        6: \"Data Science\",\n",
        "        22: \"Sales\",\n",
        "        16: \"Mechanical Engineer\",\n",
        "        1: \"Arts\",\n",
        "        7: \"Database\",\n",
        "        11: \"Electrical Engineering\",\n",
        "        14: \"Health and fitness\",\n",
        "        19: \"PMO\",\n",
        "        4: \"Business Analyst\",\n",
        "        9: \"DotNet Developer\",\n",
        "        2: \"Automation Testing\",\n",
        "        17: \"Network Security Engineer\",\n",
        "        21: \"SAP Developer\",\n",
        "        5: \"Civil Engineer\",\n",
        "        0: \"Advocate\",\n",
        "        }\n",
        "\n",
        "    for i in range(len(cv)):\n",
        "\n",
        "        cleaned_resume = cleaning_text(cv)\n",
        "        # Transform the cleaned resume using the trained TfidfVectorizer\n",
        "        input_features = tfidf.transform([cleaned_resume])\n",
        "        # Make the prediction using the loaded classifier\n",
        "        prediction_id = clf.predict(input_features)[0]\n",
        "\n",
        "        category_name = category_mapping.get(prediction_id, \"Unknown\")\n",
        "\n",
        "        return   category_name\n",
        "\n",
        "#============================================================\n",
        "\n",
        "def features_extraction(text):\n",
        "    try:\n",
        "        Text = text.lower()\n",
        "\n",
        "        phone = re.search(r'\\d{6,}', Text)  # Modified phone regex to look for 6 or more digits\n",
        "        Email_1 = re.search(r'https\\S+|hppt\\S+', Text)  # Updated email regex\n",
        "        Email_2 = re.search(r'\\S+@\\S+', Text)  # Another email regex\n",
        "        Experience = re.findall(r'experience\\s+.+', Text)  # Updated experience regex\n",
        "        Education = re.findall(r'education\\s+.+|graduated\\s+.+|graduation\\s+.+', Text)  # Updated education regex\n",
        "\n",
        "        data = {'phone': [phone.group() if phone else None],\n",
        "                'Email_1': [Email_1.group() if Email_1 else None],\n",
        "                'Email_2': [Email_2.group() if Email_2 else None],\n",
        "                'Experience': [Experience if Experience else None],\n",
        "                'Education': [Education if Education else None]}\n",
        "\n",
        "        d_f = pd.DataFrame(data)\n",
        "\n",
        "    except Exception as e:\n",
        "        print(f'Error: {e}')\n",
        "\n",
        "    return  d_f\n",
        "\n",
        "#=============================================================\n",
        "\n",
        "def word_tokenizatian(text):\n",
        "    word_token = nltk.word_tokenize(str(text))\n",
        "    return word_token\n",
        "\n",
        "#================================================\n",
        "\n",
        "\n",
        "def sent_tokenizatian(text):\n",
        "    sent_token = nltk.sent_tokenize(str(text))\n",
        "    return sent_token\n",
        "\n",
        "#=========================================================\n",
        "\n",
        "def tokenize_stemmer(text):\n",
        "    stemmer =SnowballStemmer('english')\n",
        "    tokens=word_tokenizatian(text.lower())\n",
        "    stemming=[stemmer.stem(w)for w in tokens]\n",
        "    return \" \".join(stemming)\n",
        "\n",
        "#========================================================\n",
        "\n",
        "def response(user_input, file_path=FILE_PATH):\n",
        "    lemmar = nltk.stem.WordNetLemmatizer()\n",
        "\n",
        "    def toklemma(tokens):\n",
        "        return [lemmar.lemmatize(tk) for tk in tokens]\n",
        "\n",
        "    remove_puc_dict = dict((ord(puc), None) for puc in string.punctuation)\n",
        "\n",
        "    def lemNormalize(text):\n",
        "        return toklemma(nltk.word_tokenize(text.lower().translate(remove_puc_dict)))\n",
        "\n",
        "    with open(file_path, 'r',encoding ='utf-8') as file:\n",
        "        data = file.read()\n",
        "\n",
        "    def sent_tokenization(text):\n",
        "        sent_token = nltk.sent_tokenize(str(text))\n",
        "        return sent_token\n",
        "\n",
        "    Sent_token = sent_tokenization(data)\n",
        "\n",
        "    # Append user input to the tokenized sentences\n",
        "    Sent_token.append(user_input)\n",
        "\n",
        "    tfidfvec = TfidfVectorizer(tokenizer=lemNormalize, stop_words='english')\n",
        "    tfidf = tfidfvec.fit_transform(Sent_token)\n",
        "    vals = cosine_similarity(tfidf[-1], tfidf)\n",
        "    idx = vals.argsort()[0][-2]\n",
        "    flat = vals.flatten()\n",
        "    flat.sort()\n",
        "    reg_tfidf = flat[-2]\n",
        "\n",
        "    if reg_tfidf == 0:\n",
        "        robo1_res = \"I am sorry, I don't understand you\"\n",
        "        return robo1_res\n",
        "    else:\n",
        "        robo1_res = Sent_token[idx]\n",
        "        return robo1_res\n",
        "\n",
        "\n",
        "#==================================================================\n",
        "\n",
        "def similarity(text_1,text_2):\n",
        "    TFIDF=TfidfVectorizer(tokenizer=tokenize_stemmer,stop_words='english')\n",
        "    tfidfmatrix =TFIDF.fit_transform([text_1,text_2])\n",
        "    similar_vector = cosine_similarity(tfidfmatrix)[0][1]\n",
        "    return similar_vector\n",
        "\n",
        "#=======================================================================\n",
        "\n",
        "#Create a helper function that will convert the markdown into nicely formatted text\n",
        "def to_markdown(text):\n",
        "    text = text.replace('•','*')\n",
        "    return Markdown(textwrap.indent(text, '>', predicate=lambda _: True))\n",
        "\n",
        "#===================================================================="
      ]
    },
    {
      "cell_type": "code",
      "execution_count": 5,
      "id": "df229f69",
      "metadata": {
        "colab": {
          "base_uri": "https://localhost:8080/",
          "height": 62
        },
        "id": "df229f69",
        "outputId": "c70a715f-3e39-41a3-fe94-e24767c53051"
      },
      "outputs": [
        {
          "output_type": "execute_result",
          "data": {
            "text/plain": [
              "<IPython.core.display.Markdown object>"
            ],
            "text/markdown": ">Explain Artificial Intelligence and give its applications.,Artificial Intelligence (AI) is a field o"
          },
          "metadata": {},
          "execution_count": 5
        }
      ],
      "source": [
        "data =open_the_file(FILE_PATH)\n",
        "to_markdown(data[:100])"
      ]
    },
    {
      "cell_type": "code",
      "execution_count": 6,
      "id": "xO7UFkeHTFvG",
      "metadata": {
        "id": "xO7UFkeHTFvG"
      },
      "outputs": [],
      "source": [
        "with open('Data Scientist.pdf', 'rb') as Resume_pdf:\n",
        "    CV = upload_cv(Resume_pdf)"
      ]
    },
    {
      "cell_type": "code",
      "execution_count": 7,
      "id": "-QsVQTsTTXLS",
      "metadata": {
        "id": "-QsVQTsTTXLS"
      },
      "outputs": [],
      "source": [
        "with open('Data Scientist.docx', 'rb') as Resume_pdf:\n",
        "    Resume_docx = upload_cv(Resume_pdf)"
      ]
    },
    {
      "cell_type": "code",
      "execution_count": 8,
      "id": "be0c000e",
      "metadata": {
        "colab": {
          "base_uri": "https://localhost:8080/",
          "height": 62
        },
        "id": "be0c000e",
        "outputId": "39fc0668-728c-4430-c6aa-b279bdd82c36"
      },
      "outputs": [
        {
          "output_type": "execute_result",
          "data": {
            "text/plain": [
              "<IPython.core.display.Markdown object>"
            ],
            "text/markdown": ">Data Science"
          },
          "metadata": {},
          "execution_count": 8
        }
      ],
      "source": [
        "to_markdown(Resume(CV))"
      ]
    },
    {
      "cell_type": "code",
      "execution_count": 9,
      "id": "c7b4ac07",
      "metadata": {
        "colab": {
          "base_uri": "https://localhost:8080/",
          "height": 98
        },
        "id": "c7b4ac07",
        "outputId": "2957db4a-fded-4f85-aa34-b09e8a8a8616"
      },
      "outputs": [
        {
          "output_type": "execute_result",
          "data": {
            "text/plain": [
              "           phone Email_1                                Email_2  \\\n",
              "0  2001149973327    None  mahmoudibrahimabdelfattah48@gmail.com   \n",
              "\n",
              "                                          Experience  \\\n",
              "0  [experience\\n\\n04/2022 – 08/2024\\tdata scienti...   \n",
              "\n",
              "                                           Education  \n",
              "0  [education\\nbachelor's degree in computer scie...  "
            ],
            "text/html": [
              "\n",
              "  <div id=\"df-241186f5-6f78-4f2a-ac8a-635f3e083641\" class=\"colab-df-container\">\n",
              "    <div>\n",
              "<style scoped>\n",
              "    .dataframe tbody tr th:only-of-type {\n",
              "        vertical-align: middle;\n",
              "    }\n",
              "\n",
              "    .dataframe tbody tr th {\n",
              "        vertical-align: top;\n",
              "    }\n",
              "\n",
              "    .dataframe thead th {\n",
              "        text-align: right;\n",
              "    }\n",
              "</style>\n",
              "<table border=\"1\" class=\"dataframe\">\n",
              "  <thead>\n",
              "    <tr style=\"text-align: right;\">\n",
              "      <th></th>\n",
              "      <th>phone</th>\n",
              "      <th>Email_1</th>\n",
              "      <th>Email_2</th>\n",
              "      <th>Experience</th>\n",
              "      <th>Education</th>\n",
              "    </tr>\n",
              "  </thead>\n",
              "  <tbody>\n",
              "    <tr>\n",
              "      <th>0</th>\n",
              "      <td>2001149973327</td>\n",
              "      <td>None</td>\n",
              "      <td>mahmoudibrahimabdelfattah48@gmail.com</td>\n",
              "      <td>[experience\\n\\n04/2022 – 08/2024\\tdata scienti...</td>\n",
              "      <td>[education\\nbachelor's degree in computer scie...</td>\n",
              "    </tr>\n",
              "  </tbody>\n",
              "</table>\n",
              "</div>\n",
              "    <div class=\"colab-df-buttons\">\n",
              "\n",
              "  <div class=\"colab-df-container\">\n",
              "    <button class=\"colab-df-convert\" onclick=\"convertToInteractive('df-241186f5-6f78-4f2a-ac8a-635f3e083641')\"\n",
              "            title=\"Convert this dataframe to an interactive table.\"\n",
              "            style=\"display:none;\">\n",
              "\n",
              "  <svg xmlns=\"http://www.w3.org/2000/svg\" height=\"24px\" viewBox=\"0 -960 960 960\">\n",
              "    <path d=\"M120-120v-720h720v720H120Zm60-500h600v-160H180v160Zm220 220h160v-160H400v160Zm0 220h160v-160H400v160ZM180-400h160v-160H180v160Zm440 0h160v-160H620v160ZM180-180h160v-160H180v160Zm440 0h160v-160H620v160Z\"/>\n",
              "  </svg>\n",
              "    </button>\n",
              "\n",
              "  <style>\n",
              "    .colab-df-container {\n",
              "      display:flex;\n",
              "      gap: 12px;\n",
              "    }\n",
              "\n",
              "    .colab-df-convert {\n",
              "      background-color: #E8F0FE;\n",
              "      border: none;\n",
              "      border-radius: 50%;\n",
              "      cursor: pointer;\n",
              "      display: none;\n",
              "      fill: #1967D2;\n",
              "      height: 32px;\n",
              "      padding: 0 0 0 0;\n",
              "      width: 32px;\n",
              "    }\n",
              "\n",
              "    .colab-df-convert:hover {\n",
              "      background-color: #E2EBFA;\n",
              "      box-shadow: 0px 1px 2px rgba(60, 64, 67, 0.3), 0px 1px 3px 1px rgba(60, 64, 67, 0.15);\n",
              "      fill: #174EA6;\n",
              "    }\n",
              "\n",
              "    .colab-df-buttons div {\n",
              "      margin-bottom: 4px;\n",
              "    }\n",
              "\n",
              "    [theme=dark] .colab-df-convert {\n",
              "      background-color: #3B4455;\n",
              "      fill: #D2E3FC;\n",
              "    }\n",
              "\n",
              "    [theme=dark] .colab-df-convert:hover {\n",
              "      background-color: #434B5C;\n",
              "      box-shadow: 0px 1px 3px 1px rgba(0, 0, 0, 0.15);\n",
              "      filter: drop-shadow(0px 1px 2px rgba(0, 0, 0, 0.3));\n",
              "      fill: #FFFFFF;\n",
              "    }\n",
              "  </style>\n",
              "\n",
              "    <script>\n",
              "      const buttonEl =\n",
              "        document.querySelector('#df-241186f5-6f78-4f2a-ac8a-635f3e083641 button.colab-df-convert');\n",
              "      buttonEl.style.display =\n",
              "        google.colab.kernel.accessAllowed ? 'block' : 'none';\n",
              "\n",
              "      async function convertToInteractive(key) {\n",
              "        const element = document.querySelector('#df-241186f5-6f78-4f2a-ac8a-635f3e083641');\n",
              "        const dataTable =\n",
              "          await google.colab.kernel.invokeFunction('convertToInteractive',\n",
              "                                                    [key], {});\n",
              "        if (!dataTable) return;\n",
              "\n",
              "        const docLinkHtml = 'Like what you see? Visit the ' +\n",
              "          '<a target=\"_blank\" href=https://colab.research.google.com/notebooks/data_table.ipynb>data table notebook</a>'\n",
              "          + ' to learn more about interactive tables.';\n",
              "        element.innerHTML = '';\n",
              "        dataTable['output_type'] = 'display_data';\n",
              "        await google.colab.output.renderOutput(dataTable, element);\n",
              "        const docLink = document.createElement('div');\n",
              "        docLink.innerHTML = docLinkHtml;\n",
              "        element.appendChild(docLink);\n",
              "      }\n",
              "    </script>\n",
              "  </div>\n",
              "\n",
              "\n",
              "    </div>\n",
              "  </div>\n"
            ],
            "application/vnd.google.colaboratory.intrinsic+json": {
              "type": "dataframe",
              "repr_error": "Out of range float values are not JSON compliant: nan"
            }
          },
          "metadata": {},
          "execution_count": 9
        }
      ],
      "source": [
        "features_extraction(Resume_docx)"
      ]
    },
    {
      "cell_type": "code",
      "execution_count": 10,
      "id": "1a146990",
      "metadata": {
        "colab": {
          "base_uri": "https://localhost:8080/"
        },
        "id": "1a146990",
        "outputId": "ddc7f352-d6ad-4d16-c34d-7f50b624b786"
      },
      "outputs": [
        {
          "output_type": "execute_result",
          "data": {
            "text/plain": [
              "13669"
            ]
          },
          "metadata": {},
          "execution_count": 10
        }
      ],
      "source": [
        "word_token =word_tokenizatian(data)\n",
        "len(word_token)"
      ]
    },
    {
      "cell_type": "code",
      "execution_count": 11,
      "id": "baaf80e5",
      "metadata": {
        "colab": {
          "base_uri": "https://localhost:8080/"
        },
        "id": "baaf80e5",
        "outputId": "c0f41748-b13e-4e5c-d400-0d4f0cf0af65"
      },
      "outputs": [
        {
          "output_type": "execute_result",
          "data": {
            "text/plain": [
              "548"
            ]
          },
          "metadata": {},
          "execution_count": 11
        }
      ],
      "source": [
        "sent_token=sent_tokenizatian(data)\n",
        "len(sent_token)"
      ]
    },
    {
      "cell_type": "code",
      "execution_count": 12,
      "id": "71a29a6a",
      "metadata": {
        "colab": {
          "base_uri": "https://localhost:8080/",
          "height": 80
        },
        "id": "71a29a6a",
        "outputId": "88aa83ce-24fa-4992-d7e0-4c8321668a98"
      },
      "outputs": [
        {
          "output_type": "execute_result",
          "data": {
            "text/plain": [
              "<IPython.core.display.Markdown object>"
            ],
            "text/markdown": ">Machine Learning Machine learning is essential for cognitive computing as it allows systems to learn from data adapt and improve their performance over time "
          },
          "metadata": {},
          "execution_count": 12
        }
      ],
      "source": [
        "to_markdown(cleaning_text(response('what is the machine learning')))"
      ]
    },
    {
      "cell_type": "code",
      "execution_count": 13,
      "id": "d36106eb",
      "metadata": {
        "colab": {
          "base_uri": "https://localhost:8080/",
          "height": 97
        },
        "id": "d36106eb",
        "outputId": "db7b7d8d-4106-413b-fcdc-217b71a03e1d"
      },
      "outputs": [
        {
          "output_type": "execute_result",
          "data": {
            "text/plain": [
              "<IPython.core.display.Markdown object>"
            ],
            "text/markdown": ">What built in types are available in Python The built in types in Python include Strings Integer Complex numbers Floating point numbers Built in functions How do you differentiate between py and pc files in Python A file in Python with extension py are source files while with extension pyc are compiled bytecode files generated by the compiler "
          },
          "metadata": {},
          "execution_count": 13
        }
      ],
      "source": [
        "to_markdown(cleaning_text(response('what built-in types are available in Python?')))"
      ]
    },
    {
      "cell_type": "code",
      "execution_count": 14,
      "id": "5475e4c6",
      "metadata": {
        "colab": {
          "base_uri": "https://localhost:8080/"
        },
        "id": "5475e4c6",
        "outputId": "26329c55-3edb-422f-a761-a5637b47e8b6"
      },
      "outputs": [
        {
          "output_type": "execute_result",
          "data": {
            "text/plain": [
              "0.5133943255091278"
            ]
          },
          "metadata": {},
          "execution_count": 14
        }
      ],
      "source": [
        "similarity('the book is very good','the cat is vary cute')"
      ]
    },
    {
      "cell_type": "code",
      "execution_count": 16,
      "id": "79834f25",
      "metadata": {
        "id": "79834f25"
      },
      "outputs": [],
      "source": [
        "greet_input = ['hey','hello','greetings','sup','whats up','hi']\n",
        "\n",
        "greet_response = ['hey dear','helo dear ','hi there','whats going one','I am glad! you are talking to me']"
      ]
    },
    {
      "cell_type": "code",
      "execution_count": 17,
      "id": "4dac1515",
      "metadata": {
        "id": "4dac1515"
      },
      "outputs": [],
      "source": [
        "Score =[]\n",
        "Data =[]\n",
        "Date=[]\n",
        "users=[]"
      ]
    },
    {
      "cell_type": "code",
      "execution_count": 18,
      "id": "d73408fd",
      "metadata": {
        "id": "d73408fd"
      },
      "outputs": [],
      "source": [
        "def Extract_informatian(DATA):\n",
        "    columns =['phone','Email_1','Email_2','Experience','Education']\n",
        "    df =pd.DataFrame(columns =columns)\n",
        "    data =pd.concat([DATA,df],axis =0)\n",
        "    Data.append(data)"
      ]
    },
    {
      "cell_type": "code",
      "execution_count": 19,
      "id": "561564b6",
      "metadata": {
        "id": "561564b6"
      },
      "outputs": [],
      "source": [
        "def interactive(X1,X2,X3,X4):\n",
        "    columns =['question_model','Answer_user','question_user','Answer_model']\n",
        "    df =pd.DataFrame(columns =columns)\n",
        "    data =pd.concat([X1,df],axis =0)\n",
        "    users.append(data)"
      ]
    },
    {
      "cell_type": "code",
      "execution_count": 20,
      "id": "b2fc1e78",
      "metadata": {
        "id": "b2fc1e78"
      },
      "outputs": [],
      "source": [
        "def ChatBot(data):\n",
        "\n",
        "    flag =True\n",
        "\n",
        "    print('''Bot: hey me name is ZOOX,i am an artificial intelligence program to help you get the job,\n",
        "           Let's have a conversation. If you want to exit just write bye!''')\n",
        "    print()\n",
        "    #display(Image(filename =image_path, width =200, height =400))\n",
        "\n",
        "    while flag==True:\n",
        "\n",
        "        print()\n",
        "        today =date.today()\n",
        "        print('interview date is :',today)\n",
        "        Date.append(today)\n",
        "        print()\n",
        "        print()\n",
        "\n",
        "        Features =features_extraction(data)\n",
        "        print(Features)\n",
        "        Extract_informatian(Features)\n",
        "\n",
        "        predict =Resume(data)\n",
        "        print()\n",
        "        print( 'job Expected  =' , predict)\n",
        "\n",
        "        if predict =='Data Science':\n",
        "\n",
        "\n",
        "            questian1 =str(input('How are machine learning and AI related?'))\n",
        "            questian1 =questian1.lower()\n",
        "            similarity1 =similarity(questian1,response('How are machine learning and AI related?'))\n",
        "            print(\"The Similarity of your Answer and correct answer dear = \",similarity1)\n",
        "\n",
        "            questian2 =str(input('We use AI to build various applications for example ?'))\n",
        "            questian2 = questian2.lower()\n",
        "            similarity2 =similarity(questian2,response('We use AI to build various applications for example ?'))\n",
        "\n",
        "            print(\"The Similarity of your Answer and correct answer dear = \",    similarity2)\n",
        "\n",
        "            questian3 =str(input('Explain Artificial Intelligence and give its applications?'))\n",
        "            questian3 =questian3.lower()\n",
        "            similarity3 =similarity(questian3,response('Explain Artificial Intelligence and give its applications?'))\n",
        "\n",
        "            print(\"The Similarity of your Answer and correct answer dear = \",similarity3)\n",
        "\n",
        "            questian4 =str(input('Give some examples of weak and strong AI?'))\n",
        "            questian4 = questian4.lower()\n",
        "            similarity4 = similarity(questian4,response('Give some examples of weak and strong AI?'))\n",
        "            print(\"The Similarity of your Answer and correct answer dear  = \", similarity4)\n",
        "            print('----------')\n",
        "            total =(similarity1+similarity2+similarity3+similarity4)/4*100\n",
        "            print(\"The Score of The interview =\",total)\n",
        "            Score.append(total)\n",
        "            flag =False\n",
        "\n",
        "\n",
        "        elif predict =='Python Developer':\n",
        "\n",
        "            questian1 =str(input('What built-in types are available in Python?'))\n",
        "            questian1 =questian1.lower()\n",
        "            similarity1 =similarity(questian1,response('What built-in types are available in Python?'))\n",
        "            print(\"The Similarity of your Answer and correct answer dear = \",similarity1)\n",
        "            Score.append(similarity1)\n",
        "            flag =False\n",
        "            break\n",
        "\n",
        "    for i in range(0,1000):\n",
        "        user_response=input('you')\n",
        "        if user_response in greet_input:\n",
        "            print('Bot :',random.choice(greet_response))\n",
        "\n",
        "        elif user_response !='bye':\n",
        "            if user_response==\"thanks\" or user_response=='thank you':\n",
        "                flag=False\n",
        "                print(\"Bot: You are Welcome\")\n",
        "                break\n",
        "            else:\n",
        "                sent_token.append(user_response)\n",
        "                word_tokens =word_token+word_tokenizatian(user_response)\n",
        "                final_words = list(set(word_tokens))\n",
        "\n",
        "                print(\"Bot:\",end=\"\")\n",
        "                print('-'*5)\n",
        "                print(response(user_response))\n",
        "                sent_token.remove(user_response)\n",
        "\n",
        "        else:\n",
        "\n",
        "            flag=False\n",
        "            print('Bot: Ok Good Bye! Take Care')\n",
        "            break\n"
      ]
    },
    {
      "cell_type": "markdown",
      "id": "RWV1XmaIXIlN",
      "metadata": {
        "id": "RWV1XmaIXIlN"
      },
      "source": [
        "##pdf هنا احنا بنقرا السيره الذاتيه الصيغه"
      ]
    },
    {
      "cell_type": "code",
      "execution_count": 21,
      "id": "Uc6gTPAkWRIW",
      "metadata": {
        "id": "Uc6gTPAkWRIW"
      },
      "outputs": [],
      "source": [
        "with open('Data Scientist.pdf', 'rb') as Resume_pdf:\n",
        "    CV = upload_cv(Resume_pdf)"
      ]
    },
    {
      "cell_type": "markdown",
      "id": "Nq-FRLMrWhUx",
      "metadata": {
        "id": "Nq-FRLMrWhUx"
      },
      "source": [
        "##هنا احنا بنقرا السيره الذاتيه الصيغه الورد\n"
      ]
    },
    {
      "cell_type": "code",
      "execution_count": 22,
      "id": "ftz7T5N-WSNh",
      "metadata": {
        "id": "ftz7T5N-WSNh"
      },
      "outputs": [],
      "source": [
        "with open('Data Scientist.docx', 'rb') as Resume_pdf:\n",
        "    resume_docx = upload_cv(Resume_pdf)"
      ]
    },
    {
      "cell_type": "markdown",
      "id": "VvmETJftXiUN",
      "metadata": {
        "id": "VvmETJftXiUN"
      },
      "source": [
        "### big Data\n",
        "### text classificatian\n",
        "#### deep learning\n",
        "####  machine learning is weak and deep learning is stronge"
      ]
    },
    {
      "cell_type": "code",
      "execution_count": 23,
      "id": "77bbb218",
      "metadata": {
        "colab": {
          "base_uri": "https://localhost:8080/"
        },
        "id": "77bbb218",
        "outputId": "9b49a0a6-ce8a-497d-db2c-2dd677c0ca4e",
        "scrolled": true
      },
      "outputs": [
        {
          "output_type": "stream",
          "name": "stdout",
          "text": [
            "Bot: hey me name is ZOOX,i am an artificial intelligence program to help you get the job,\n",
            "           Let's have a conversation. If you want to exit just write bye!\n",
            "\n",
            "\n",
            "interview date is : 2024-07-07\n",
            "\n",
            "\n",
            "           phone Email_1                                Email_2  \\\n",
            "0  2001149973327    None  mahmoudibrahimabdelfattah48@gmail.com   \n",
            "\n",
            "                                          Experience  \\\n",
            "0  [experience\\n\\n04/2022 – 08/2024\\tdata scienti...   \n",
            "\n",
            "                                           Education  \n",
            "0  [education\\nbachelor's degree in computer scie...  \n",
            "\n",
            "job Expected  = Data Science\n",
            "How are machine learning and AI related?big Data\n",
            "The Similarity of your Answer and correct answer dear =  0.46798240551243636\n",
            "We use AI to build various applications for example ?text classificatian\n",
            "The Similarity of your Answer and correct answer dear =  0.4527404405779374\n",
            "Explain Artificial Intelligence and give its applications?deep learning\n",
            "The Similarity of your Answer and correct answer dear =  0.5131843124171176\n",
            "Give some examples of weak and strong AI?machine learning is weak and deep learning is stronge\n",
            "The Similarity of your Answer and correct answer dear  =  0.9090071964461921\n",
            "----------\n",
            "The Score of The interview = 58.572858873842094\n",
            "youthanks\n",
            "Bot: You are Welcome\n"
          ]
        }
      ],
      "source": [
        "ChatBot(resume_docx)"
      ]
    },
    {
      "cell_type": "code",
      "execution_count": 24,
      "id": "51071056",
      "metadata": {
        "id": "51071056"
      },
      "outputs": [],
      "source": [
        "def details_interview(Score,Date,Data):\n",
        "    \"\"\"\n",
        "    the functian to make combination All Data\n",
        "\n",
        "    \"\"\"\n",
        "    score =np.array(Score)\n",
        "    score=pd.Series(score,name='Score')\n",
        "    score =pd.DataFrame(score)\n",
        "    score['interview date'] =pd.to_datetime(Date)\n",
        "    columns =['phone','Email_1','Email_2','Experience','Education']\n",
        "    data=np.reshape(Data,(-1,5))\n",
        "    data =pd.DataFrame(data,columns=columns)\n",
        "    DATA=pd.concat([score,data],ignore_index =False,axis=1)\n",
        "    return DATA"
      ]
    },
    {
      "cell_type": "code",
      "execution_count": 25,
      "id": "455b688f",
      "metadata": {
        "colab": {
          "base_uri": "https://localhost:8080/",
          "height": 133
        },
        "id": "455b688f",
        "outputId": "9b87bcbf-168b-45d8-a535-c58ccb223a52"
      },
      "outputs": [
        {
          "output_type": "execute_result",
          "data": {
            "text/plain": [
              "       Score interview date          phone Email_1  \\\n",
              "0  58.572859     2024-07-07  2001149973327    None   \n",
              "\n",
              "                                 Email_2  \\\n",
              "0  mahmoudibrahimabdelfattah48@gmail.com   \n",
              "\n",
              "                                          Experience  \\\n",
              "0  [experience\\n\\n04/2022 – 08/2024\\tdata scienti...   \n",
              "\n",
              "                                           Education  \n",
              "0  [education\\nbachelor's degree in computer scie...  "
            ],
            "text/html": [
              "\n",
              "  <div id=\"df-e1f9dc04-02be-4b1b-8013-f76d53cedd9e\" class=\"colab-df-container\">\n",
              "    <div>\n",
              "<style scoped>\n",
              "    .dataframe tbody tr th:only-of-type {\n",
              "        vertical-align: middle;\n",
              "    }\n",
              "\n",
              "    .dataframe tbody tr th {\n",
              "        vertical-align: top;\n",
              "    }\n",
              "\n",
              "    .dataframe thead th {\n",
              "        text-align: right;\n",
              "    }\n",
              "</style>\n",
              "<table border=\"1\" class=\"dataframe\">\n",
              "  <thead>\n",
              "    <tr style=\"text-align: right;\">\n",
              "      <th></th>\n",
              "      <th>Score</th>\n",
              "      <th>interview date</th>\n",
              "      <th>phone</th>\n",
              "      <th>Email_1</th>\n",
              "      <th>Email_2</th>\n",
              "      <th>Experience</th>\n",
              "      <th>Education</th>\n",
              "    </tr>\n",
              "  </thead>\n",
              "  <tbody>\n",
              "    <tr>\n",
              "      <th>0</th>\n",
              "      <td>58.572859</td>\n",
              "      <td>2024-07-07</td>\n",
              "      <td>2001149973327</td>\n",
              "      <td>None</td>\n",
              "      <td>mahmoudibrahimabdelfattah48@gmail.com</td>\n",
              "      <td>[experience\\n\\n04/2022 – 08/2024\\tdata scienti...</td>\n",
              "      <td>[education\\nbachelor's degree in computer scie...</td>\n",
              "    </tr>\n",
              "  </tbody>\n",
              "</table>\n",
              "</div>\n",
              "    <div class=\"colab-df-buttons\">\n",
              "\n",
              "  <div class=\"colab-df-container\">\n",
              "    <button class=\"colab-df-convert\" onclick=\"convertToInteractive('df-e1f9dc04-02be-4b1b-8013-f76d53cedd9e')\"\n",
              "            title=\"Convert this dataframe to an interactive table.\"\n",
              "            style=\"display:none;\">\n",
              "\n",
              "  <svg xmlns=\"http://www.w3.org/2000/svg\" height=\"24px\" viewBox=\"0 -960 960 960\">\n",
              "    <path d=\"M120-120v-720h720v720H120Zm60-500h600v-160H180v160Zm220 220h160v-160H400v160Zm0 220h160v-160H400v160ZM180-400h160v-160H180v160Zm440 0h160v-160H620v160ZM180-180h160v-160H180v160Zm440 0h160v-160H620v160Z\"/>\n",
              "  </svg>\n",
              "    </button>\n",
              "\n",
              "  <style>\n",
              "    .colab-df-container {\n",
              "      display:flex;\n",
              "      gap: 12px;\n",
              "    }\n",
              "\n",
              "    .colab-df-convert {\n",
              "      background-color: #E8F0FE;\n",
              "      border: none;\n",
              "      border-radius: 50%;\n",
              "      cursor: pointer;\n",
              "      display: none;\n",
              "      fill: #1967D2;\n",
              "      height: 32px;\n",
              "      padding: 0 0 0 0;\n",
              "      width: 32px;\n",
              "    }\n",
              "\n",
              "    .colab-df-convert:hover {\n",
              "      background-color: #E2EBFA;\n",
              "      box-shadow: 0px 1px 2px rgba(60, 64, 67, 0.3), 0px 1px 3px 1px rgba(60, 64, 67, 0.15);\n",
              "      fill: #174EA6;\n",
              "    }\n",
              "\n",
              "    .colab-df-buttons div {\n",
              "      margin-bottom: 4px;\n",
              "    }\n",
              "\n",
              "    [theme=dark] .colab-df-convert {\n",
              "      background-color: #3B4455;\n",
              "      fill: #D2E3FC;\n",
              "    }\n",
              "\n",
              "    [theme=dark] .colab-df-convert:hover {\n",
              "      background-color: #434B5C;\n",
              "      box-shadow: 0px 1px 3px 1px rgba(0, 0, 0, 0.15);\n",
              "      filter: drop-shadow(0px 1px 2px rgba(0, 0, 0, 0.3));\n",
              "      fill: #FFFFFF;\n",
              "    }\n",
              "  </style>\n",
              "\n",
              "    <script>\n",
              "      const buttonEl =\n",
              "        document.querySelector('#df-e1f9dc04-02be-4b1b-8013-f76d53cedd9e button.colab-df-convert');\n",
              "      buttonEl.style.display =\n",
              "        google.colab.kernel.accessAllowed ? 'block' : 'none';\n",
              "\n",
              "      async function convertToInteractive(key) {\n",
              "        const element = document.querySelector('#df-e1f9dc04-02be-4b1b-8013-f76d53cedd9e');\n",
              "        const dataTable =\n",
              "          await google.colab.kernel.invokeFunction('convertToInteractive',\n",
              "                                                    [key], {});\n",
              "        if (!dataTable) return;\n",
              "\n",
              "        const docLinkHtml = 'Like what you see? Visit the ' +\n",
              "          '<a target=\"_blank\" href=https://colab.research.google.com/notebooks/data_table.ipynb>data table notebook</a>'\n",
              "          + ' to learn more about interactive tables.';\n",
              "        element.innerHTML = '';\n",
              "        dataTable['output_type'] = 'display_data';\n",
              "        await google.colab.output.renderOutput(dataTable, element);\n",
              "        const docLink = document.createElement('div');\n",
              "        docLink.innerHTML = docLinkHtml;\n",
              "        element.appendChild(docLink);\n",
              "      }\n",
              "    </script>\n",
              "  </div>\n",
              "\n",
              "\n",
              "    </div>\n",
              "  </div>\n"
            ],
            "application/vnd.google.colaboratory.intrinsic+json": {
              "type": "dataframe",
              "variable_name": "data",
              "repr_error": "Out of range float values are not JSON compliant: nan"
            }
          },
          "metadata": {},
          "execution_count": 25
        }
      ],
      "source": [
        "data =details_interview(Score,Date,Data)\n",
        "data.head()"
      ]
    },
    {
      "cell_type": "code",
      "execution_count": 26,
      "id": "1f49b8cd",
      "metadata": {
        "id": "1f49b8cd"
      },
      "outputs": [],
      "source": [
        "data.to_excel('result_HR.xlsx')"
      ]
    }
  ],
  "metadata": {
    "accelerator": "GPU",
    "colab": {
      "gpuType": "T4",
      "provenance": []
    },
    "kernelspec": {
      "display_name": "Python 3 (ipykernel)",
      "language": "python",
      "name": "python3"
    },
    "language_info": {
      "codemirror_mode": {
        "name": "ipython",
        "version": 3
      },
      "file_extension": ".py",
      "mimetype": "text/x-python",
      "name": "python",
      "nbconvert_exporter": "python",
      "pygments_lexer": "ipython3",
      "version": "3.9.12"
    }
  },
  "nbformat": 4,
  "nbformat_minor": 5
}